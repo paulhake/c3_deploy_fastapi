{
 "cells": [
  {
   "cell_type": "code",
   "execution_count": 1,
   "metadata": {},
   "outputs": [],
   "source": [
    "import numpy as np\n",
    "import pandas as pd\n",
    "from sklearn.model_selection import train_test_split\n",
    "\n",
    "# Add the necessary imports for the starter code.\n",
    "from data import process_data\n",
    "from model import compute_model_metrics, inference, train_model\n",
    "import joblib"
   ]
  },
  {
   "cell_type": "code",
   "execution_count": 2,
   "metadata": {},
   "outputs": [],
   "source": [
    "cat_features = [\n",
    "    \"workclass\",\n",
    "    \"education\",\n",
    "    \"marital-status\",\n",
    "    \"occupation\",\n",
    "    \"relationship\",\n",
    "    \"race\",\n",
    "    \"sex\",\n",
    "    \"native-country\",\n",
    "]"
   ]
  },
  {
   "cell_type": "code",
   "execution_count": 4,
   "metadata": {},
   "outputs": [],
   "source": [
    "def online_inference(row_dict, cat_features):\n",
    "    # load the model from `model_path`\n",
    "    model = joblib.load('./model/model.pkl')\n",
    "    encoder = joblib.load('./model/encoder.pkl')\n",
    "\n",
    "    row_transformed = list()\n",
    "    X_categorical = list()\n",
    "    X_continuous = list()\n",
    "\n",
    "    for key, value in row_dict.items():\n",
    "        mod_key = key.replace('_', '-')\n",
    "        if mod_key in cat_features:\n",
    "            X_categorical.append(value)\n",
    "        else:\n",
    "            X_continuous.append(value)\n",
    "\n",
    "    y_cat = encoder.transform([X_categorical])\n",
    "    y_conts = np.asarray([X_continuous])\n",
    "\n",
    "    row_transformed = np.concatenate([y_conts, y_cat], axis=1)\n",
    "\n",
    "    # get inference from model\n",
    "    preds = inference(model=model, X=row_transformed)\n",
    "\n",
    "    return '>50K' if preds[0] else '<=50K'"
   ]
  },
  {
   "cell_type": "code",
   "execution_count": 3,
   "metadata": {},
   "outputs": [],
   "source": [
    "row1 = {\n",
    "        \"age\": 32,\n",
    "        \"workclass\": \"Private\",\n",
    "        \"fnlgt\": 205019,\n",
    "        \"education\": \"Assoc-acdm\",\n",
    "        \"education_num\": 12,\n",
    "        \"marital_status\": \"Never-married\",\n",
    "        \"occupation\": \"Sales\",\n",
    "        \"relationship\": \"Not-in-family\",\n",
    "        \"race\": \"Black\",\n",
    "        \"sex\": \"Male\",\n",
    "        \"capital_gain\": 0,\n",
    "        \"capital_loss\": 0,\n",
    "        \"hours_per_week\": 50,\n",
    "        \"native_country\": \"United-States\"\n",
    "    }"
   ]
  },
  {
   "cell_type": "code",
   "execution_count": 5,
   "metadata": {},
   "outputs": [
    {
     "data": {
      "text/plain": [
       "'<=50K'"
      ]
     },
     "execution_count": 5,
     "metadata": {},
     "output_type": "execute_result"
    }
   ],
   "source": [
    "online_inference(row1, cat_features=cat_features)"
   ]
  },
  {
   "cell_type": "code",
   "execution_count": null,
   "metadata": {},
   "outputs": [],
   "source": []
  }
 ],
 "metadata": {
  "kernelspec": {
   "display_name": "udacity_c3",
   "language": "python",
   "name": "python3"
  },
  "language_info": {
   "codemirror_mode": {
    "name": "ipython",
    "version": 3
   },
   "file_extension": ".py",
   "mimetype": "text/x-python",
   "name": "python",
   "nbconvert_exporter": "python",
   "pygments_lexer": "ipython3",
   "version": "3.8.16"
  },
  "orig_nbformat": 4
 },
 "nbformat": 4,
 "nbformat_minor": 2
}
